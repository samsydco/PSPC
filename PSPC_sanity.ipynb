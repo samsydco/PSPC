{
 "cells": [
  {
   "cell_type": "code",
   "execution_count": 1,
   "id": "5f9f4aeb-ba3d-4ae1-84be-c30fb0173e1e",
   "metadata": {},
   "outputs": [],
   "source": [
    "import numpy as np\n",
    "import pandas as pd\n",
    "import glob\n",
    "from settings import *"
   ]
  },
  {
   "cell_type": "code",
   "execution_count": 18,
   "id": "53e5c473-9392-4e19-af23-7da6d7fd3bfd",
   "metadata": {},
   "outputs": [],
   "source": [
    "Sanity_Path = 'C:/Users/tuq67942/OneDrive - Temple University/Documents/Data/PSPC Sanity Check'\n",
    "Answer_Key = pd.read_excel('pspc_trialbytrial.xlsx')\n",
    "Sanity_dict = {}\n",
    "for Day in ['Day 1','Day 2']:\n",
    "    Sanity_dict[Day] = {}\n",
    "    for t in ['target','lure']:\n",
    "        Sanity_dict[Day][t] = pd.read_csv(glob.glob(Sanity_Path+'/'+Day+'/test-'+t+'/*csv')[0])\n",
    "        "
   ]
  },
  {
   "cell_type": "code",
   "execution_count": 17,
   "id": "6e830e61-0700-4523-a917-010aa757c9bb",
   "metadata": {},
   "outputs": [],
   "source": [
    "# Compare from Sanity_dict to Answer_Key"
   ]
  },
  {
   "cell_type": "code",
   "execution_count": null,
   "id": "b12d0d96-8537-4380-8f46-4d58894a596f",
   "metadata": {},
   "outputs": [],
   "source": []
  }
 ],
 "metadata": {
  "kernelspec": {
   "display_name": "Python 3 (ipykernel)",
   "language": "python",
   "name": "python3"
  },
  "language_info": {
   "codemirror_mode": {
    "name": "ipython",
    "version": 3
   },
   "file_extension": ".py",
   "mimetype": "text/x-python",
   "name": "python",
   "nbconvert_exporter": "python",
   "pygments_lexer": "ipython3",
   "version": "3.9.12"
  }
 },
 "nbformat": 4,
 "nbformat_minor": 5
}
