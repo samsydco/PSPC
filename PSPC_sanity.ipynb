{
 "cells": [
  {
   "cell_type": "code",
   "execution_count": 1,
   "id": "5f9f4aeb-ba3d-4ae1-84be-c30fb0173e1e",
   "metadata": {},
   "outputs": [],
   "source": [
    "import numpy as np\n",
    "import pandas as pd\n",
    "import glob\n",
    "from settings import *"
   ]
  },
  {
   "cell_type": "code",
   "execution_count": 2,
   "id": "351d1993-d755-4383-8ef7-db5f97c6e909",
   "metadata": {},
   "outputs": [],
   "source": [
    "days = ['Day 1','Day 2']\n",
    "target_lure = ['target','lure']\n",
    "PSPC = ['PS','PC']\n",
    "ABC = {'A':'Place','B':'Animal','C':'Object'}"
   ]
  },
  {
   "cell_type": "code",
   "execution_count": 3,
   "id": "53e5c473-9392-4e19-af23-7da6d7fd3bfd",
   "metadata": {},
   "outputs": [],
   "source": [
    "Sanity_Path = 'C:/Users/tuq67942/OneDrive - Temple University/Documents/Data/PSPC Sanity Check'\n",
    "xls = pd.ExcelFile('pspc_trialbytrial.xlsx')\n",
    "Answer_dict = {}\n",
    "Answer_dict['Day 1'] = pd.read_excel(xls,'B2_Item_status')\n",
    "Answer_dict['Day 2'] = pd.read_excel(xls,'B1_Item_status')"
   ]
  },
  {
   "cell_type": "code",
   "execution_count": 41,
   "id": "91395e35-3501-4ae7-a443-d71c6c76da46",
   "metadata": {},
   "outputs": [],
   "source": [
    "# Need to code trial numbers into Answer key for B1_Item_status / Day 2 Answer_dict\n",
    "# Column: \"Trial_number\"\n",
    "day2df = pd.read_excel(xls,'B1_Item_status')\n",
    "day2or = pd.read_excel(xls,'Block1_proc')\n",
    "for test in day2df['List_type'].unique():\n",
    "    if 'PS' in test:\n",
    "        minior = day2or[day2or['List_type']==test]\n",
    "        for i,(index, row) in enumerate(minior.iterrows()):\n",
    "            images = [row.Image_1, row.Image_2, row.Image_3, row['Image 4']]\n",
    "            for image in images:\n",
    "                day2df.loc[(day2df['List_type'] == test) & (day2df['Test_image'] == image), 'Trial_number'] = i+1\n",
    "Answer_dict['Day 2'] = day2df"
   ]
  },
  {
   "cell_type": "code",
   "execution_count": null,
   "id": "bd71d83a-f328-4b19-a6b9-3a7b2c3bad88",
   "metadata": {},
   "outputs": [],
   "source": [
    "Sanity_dict = {}\n",
    "results = []\n",
    "for Day in days:\n",
    "    Sanity_dict[Day] = {}\n",
    "    for t in target_lure:\n",
    "        Sanity_dict[Day][t] = \\\n",
    "        pd.read_csv(glob.glob(Sanity_Path+'/'+Day+'/test-'+t+'/*csv')[0]).dropna(subset=['Event']).reset_index()\n",
    "        for test in PSPC:\n",
    "            answer_string = 'ans' if test == 'PS' else 'ans1'\n",
    "            Answers = Answer_dict[Day][Answer_dict[Day]['List_type'].str.contains(test)]\n",
    "            Sanity = Sanity_dict[Day][t].dropna(subset=answer_string)\n",
    "            for answer in Sanity[answer_string]:\n",
    "                Type = Answers.loc[Answers['Test_image'] == answer]['List_type'].iloc[0].split('_')[1]\n",
    "                Status = Answers.loc[Answers['Test_image'] == answer]['Status'].iloc[0]\n",
    "                #Picture_correct = \n",
    "                results.append({'Day':Day,'Target/Lure':t,'PSPC':test,'Type':Type,'Status':Status,\\\n",
    "                                'Picture_chosen':answer})\n",
    "resultdf = pd.DataFrame(results)"
   ]
  },
  {
   "cell_type": "code",
   "execution_count": 112,
   "id": "6e830e61-0700-4523-a917-010aa757c9bb",
   "metadata": {},
   "outputs": [],
   "source": [
    "# Compare from Sanity_dict to Answer_Key for Pattern Seperation ('ans')\n",
    "Answer_PS = Answer_dict['Day 1'][Answer_dict['Day 1']['List_type'].str.contains('PS')]\n",
    "Sanity_PS = Sanity_dict['Day 1']['target'].dropna(subset='ans')\n",
    "PSdict = {'Type':[],'Status':[]}\n",
    "for answer in Sanity_PS['ans']:\n",
    "    PSdict['Type'].append(Answer_PS.loc[Answer_PS['Test_image'] == answer]['List_type'].iloc[0].split('_')[1])\n",
    "    PSdict['Status'].append(Answer_PS.loc[Answer_PS['Test_image'] == answer]['Status'].iloc[0])"
   ]
  },
  {
   "cell_type": "code",
   "execution_count": 122,
   "id": "b12d0d96-8537-4380-8f46-4d58894a596f",
   "metadata": {},
   "outputs": [],
   "source": [
    "# Compare from Sanity_dict to Answer_Key for Pattern Completion ('ans1')\n",
    "Answer_PC = Answer_dict['Day 1'][Answer_dict['Day 1']['List_type'].str.contains('PC')]\n",
    "Sanity_PC = Sanity_dict['Day 1']['target'].dropna(subset='ans1')\n",
    "PCdict = {'Type':[],'Status':[]}\n",
    "for answer in Sanity_PC['ans1']:\n",
    "    PCdict['Type'].append(Answer_PC.loc[Answer_PC['Test_image'] == answer]['List_type'].iloc[0].split('_')[1])\n",
    "    PCdict['Status'].append(Answer_PC.loc[Answer_PC['Test_image'] == answer]['Status'].iloc[0])"
   ]
  },
  {
   "cell_type": "code",
   "execution_count": 132,
   "id": "e6196582-c0af-49fc-9a14-4d2988e80eab",
   "metadata": {},
   "outputs": [
    {
     "data": {
      "text/plain": [
       "{9: 8, 5: 3, 3: 9, 7: 0, 6: 6}"
      ]
     },
     "execution_count": 132,
     "metadata": {},
     "output_type": "execute_result"
    }
   ],
   "source": [
    "data = []\n",
    "for i in range(5):\n",
    "    data.append(dict(zip(np.random.choice(10, replace=False, size=5),\n",
    "                         np.random.randint(10, size=5))))\n",
    "df = pd.DataFrame(data)\n",
    "data[1]"
   ]
  },
  {
   "cell_type": "code",
   "execution_count": 141,
   "id": "9160e5a5-2638-4318-87ef-09b679449983",
   "metadata": {},
   "outputs": [
    {
     "data": {
      "text/html": [
       "<div>\n",
       "<style scoped>\n",
       "    .dataframe tbody tr th:only-of-type {\n",
       "        vertical-align: middle;\n",
       "    }\n",
       "\n",
       "    .dataframe tbody tr th {\n",
       "        vertical-align: top;\n",
       "    }\n",
       "\n",
       "    .dataframe thead th {\n",
       "        text-align: right;\n",
       "    }\n",
       "</style>\n",
       "<table border=\"1\" class=\"dataframe\">\n",
       "  <thead>\n",
       "    <tr style=\"text-align: right;\">\n",
       "      <th></th>\n",
       "      <th>List_type</th>\n",
       "      <th>Trial_number</th>\n",
       "      <th>Test_image</th>\n",
       "      <th>Status</th>\n",
       "      <th>Image_ID</th>\n",
       "    </tr>\n",
       "  </thead>\n",
       "  <tbody>\n",
       "    <tr>\n",
       "      <th>146</th>\n",
       "      <td>PC_Ac_test</td>\n",
       "      <td>95</td>\n",
       "      <td>8_C_tie_1.png</td>\n",
       "      <td>target</td>\n",
       "      <td>Image_2</td>\n",
       "    </tr>\n",
       "    <tr>\n",
       "      <th>161</th>\n",
       "      <td>PC_Ac_test</td>\n",
       "      <td>101</td>\n",
       "      <td>8_C_tie_1.png</td>\n",
       "      <td>lure</td>\n",
       "      <td>Image_3</td>\n",
       "    </tr>\n",
       "    <tr>\n",
       "      <th>168</th>\n",
       "      <td>PC_Ac_test</td>\n",
       "      <td>99</td>\n",
       "      <td>8_C_tie_1.png</td>\n",
       "      <td>lure</td>\n",
       "      <td>Image_4</td>\n",
       "    </tr>\n",
       "    <tr>\n",
       "      <th>171</th>\n",
       "      <td>PC_Ac_test</td>\n",
       "      <td>93</td>\n",
       "      <td>8_C_tie_1.png</td>\n",
       "      <td>lure</td>\n",
       "      <td>Image_5</td>\n",
       "    </tr>\n",
       "    <tr>\n",
       "      <th>298</th>\n",
       "      <td>PC_Bc_test</td>\n",
       "      <td>138</td>\n",
       "      <td>8_C_tie_1.png</td>\n",
       "      <td>lure</td>\n",
       "      <td>Image_3</td>\n",
       "    </tr>\n",
       "    <tr>\n",
       "      <th>304</th>\n",
       "      <td>PC_Bc_test</td>\n",
       "      <td>144</td>\n",
       "      <td>8_C_tie_1.png</td>\n",
       "      <td>lure</td>\n",
       "      <td>Image_3</td>\n",
       "    </tr>\n",
       "    <tr>\n",
       "      <th>320</th>\n",
       "      <td>PC_Bc_test</td>\n",
       "      <td>142</td>\n",
       "      <td>8_C_tie_1.png</td>\n",
       "      <td>lure</td>\n",
       "      <td>Image_5</td>\n",
       "    </tr>\n",
       "    <tr>\n",
       "      <th>323</th>\n",
       "      <td>PC_Bc_test</td>\n",
       "      <td>145</td>\n",
       "      <td>8_C_tie_1.png</td>\n",
       "      <td>target</td>\n",
       "      <td>Image_5</td>\n",
       "    </tr>\n",
       "  </tbody>\n",
       "</table>\n",
       "</div>"
      ],
      "text/plain": [
       "      List_type  Trial_number     Test_image  Status Image_ID\n",
       "146  PC_Ac_test            95  8_C_tie_1.png  target  Image_2\n",
       "161  PC_Ac_test           101  8_C_tie_1.png    lure  Image_3\n",
       "168  PC_Ac_test            99  8_C_tie_1.png    lure  Image_4\n",
       "171  PC_Ac_test            93  8_C_tie_1.png    lure  Image_5\n",
       "298  PC_Bc_test           138  8_C_tie_1.png    lure  Image_3\n",
       "304  PC_Bc_test           144  8_C_tie_1.png    lure  Image_3\n",
       "320  PC_Bc_test           142  8_C_tie_1.png    lure  Image_5\n",
       "323  PC_Bc_test           145  8_C_tie_1.png  target  Image_5"
      ]
     },
     "execution_count": 141,
     "metadata": {},
     "output_type": "execute_result"
    }
   ],
   "source": [
    "Answers.loc[Answers['Test_image'] == answer]"
   ]
  },
  {
   "cell_type": "code",
   "execution_count": 142,
   "id": "a4427449-6c28-4f59-b311-7aa610e9d5ed",
   "metadata": {},
   "outputs": [
    {
     "data": {
      "text/html": [
       "<div>\n",
       "<style scoped>\n",
       "    .dataframe tbody tr th:only-of-type {\n",
       "        vertical-align: middle;\n",
       "    }\n",
       "\n",
       "    .dataframe tbody tr th {\n",
       "        vertical-align: top;\n",
       "    }\n",
       "\n",
       "    .dataframe thead th {\n",
       "        text-align: right;\n",
       "    }\n",
       "</style>\n",
       "<table border=\"1\" class=\"dataframe\">\n",
       "  <thead>\n",
       "    <tr style=\"text-align: right;\">\n",
       "      <th></th>\n",
       "      <th>index</th>\n",
       "      <th>Event</th>\n",
       "      <th>image1</th>\n",
       "      <th>image2</th>\n",
       "      <th>image3</th>\n",
       "      <th>image4</th>\n",
       "      <th>ans</th>\n",
       "      <th>image5</th>\n",
       "      <th>ans1</th>\n",
       "      <th>PS_animal_loop.thisRepN</th>\n",
       "      <th>...</th>\n",
       "      <th>mission7.stopped</th>\n",
       "      <th>mission8.started</th>\n",
       "      <th>participant</th>\n",
       "      <th>session</th>\n",
       "      <th>experimenter initials</th>\n",
       "      <th>date</th>\n",
       "      <th>expName</th>\n",
       "      <th>psychopyVersion</th>\n",
       "      <th>frameRate</th>\n",
       "      <th>Unnamed: 174</th>\n",
       "    </tr>\n",
       "  </thead>\n",
       "  <tbody>\n",
       "    <tr>\n",
       "      <th>38</th>\n",
       "      <td>53</td>\n",
       "      <td>3.0</td>\n",
       "      <td>8_A_theater_1.png</td>\n",
       "      <td>8_C_tie_1.png</td>\n",
       "      <td>1_C_mug_1.png</td>\n",
       "      <td>3_C_glue_1.png</td>\n",
       "      <td>NaN</td>\n",
       "      <td>5_C_sunglasses_1.png</td>\n",
       "      <td>8_C_tie_1.png</td>\n",
       "      <td>NaN</td>\n",
       "      <td>...</td>\n",
       "      <td>NaN</td>\n",
       "      <td>NaN</td>\n",
       "      <td>test-lure</td>\n",
       "      <td>2.0</td>\n",
       "      <td>KH</td>\n",
       "      <td>2022-07-28_13h42.46.721</td>\n",
       "      <td>PSPC_day2_test</td>\n",
       "      <td>2022.2.0</td>\n",
       "      <td>None</td>\n",
       "      <td>NaN</td>\n",
       "    </tr>\n",
       "    <tr>\n",
       "      <th>80</th>\n",
       "      <td>99</td>\n",
       "      <td>9.0</td>\n",
       "      <td>8_B_tiger_1.png</td>\n",
       "      <td>9_C_notebook_1.png</td>\n",
       "      <td>1_C_mug_1.png</td>\n",
       "      <td>2_C_ruler_1.png</td>\n",
       "      <td>NaN</td>\n",
       "      <td>8_C_tie_1.png</td>\n",
       "      <td>8_C_tie_1.png</td>\n",
       "      <td>NaN</td>\n",
       "      <td>...</td>\n",
       "      <td>NaN</td>\n",
       "      <td>NaN</td>\n",
       "      <td>test-lure</td>\n",
       "      <td>2.0</td>\n",
       "      <td>KH</td>\n",
       "      <td>2022-07-28_13h42.46.721</td>\n",
       "      <td>PSPC_day2_test</td>\n",
       "      <td>2022.2.0</td>\n",
       "      <td>None</td>\n",
       "      <td>NaN</td>\n",
       "    </tr>\n",
       "  </tbody>\n",
       "</table>\n",
       "<p>2 rows × 176 columns</p>\n",
       "</div>"
      ],
      "text/plain": [
       "    index  Event             image1              image2         image3  \\\n",
       "38     53    3.0  8_A_theater_1.png       8_C_tie_1.png  1_C_mug_1.png   \n",
       "80     99    9.0    8_B_tiger_1.png  9_C_notebook_1.png  1_C_mug_1.png   \n",
       "\n",
       "             image4  ans                image5           ans1  \\\n",
       "38   3_C_glue_1.png  NaN  5_C_sunglasses_1.png  8_C_tie_1.png   \n",
       "80  2_C_ruler_1.png  NaN         8_C_tie_1.png  8_C_tie_1.png   \n",
       "\n",
       "    PS_animal_loop.thisRepN  ...  mission7.stopped  mission8.started  \\\n",
       "38                      NaN  ...               NaN               NaN   \n",
       "80                      NaN  ...               NaN               NaN   \n",
       "\n",
       "    participant  session  experimenter initials                     date  \\\n",
       "38    test-lure      2.0                     KH  2022-07-28_13h42.46.721   \n",
       "80    test-lure      2.0                     KH  2022-07-28_13h42.46.721   \n",
       "\n",
       "           expName  psychopyVersion  frameRate  Unnamed: 174  \n",
       "38  PSPC_day2_test         2022.2.0       None           NaN  \n",
       "80  PSPC_day2_test         2022.2.0       None           NaN  \n",
       "\n",
       "[2 rows x 176 columns]"
      ]
     },
     "execution_count": 142,
     "metadata": {},
     "output_type": "execute_result"
    }
   ],
   "source": [
    "Sanity.loc[Sanity[answer_string] == answer]"
   ]
  },
  {
   "cell_type": "code",
   "execution_count": 143,
   "id": "7b49a196-c607-46d7-af33-61dfd7671961",
   "metadata": {},
   "outputs": [
    {
     "data": {
      "text/plain": [
       "54"
      ]
     },
     "execution_count": 143,
     "metadata": {},
     "output_type": "execute_result"
    }
   ],
   "source": [
    "len(Sanity)"
   ]
  },
  {
   "cell_type": "code",
   "execution_count": 144,
   "id": "e6aeb760-1efd-4c53-85d2-c03ad5befc36",
   "metadata": {},
   "outputs": [
    {
     "data": {
      "text/plain": [
       "'lure'"
      ]
     },
     "execution_count": 144,
     "metadata": {},
     "output_type": "execute_result"
    }
   ],
   "source": [
    "t"
   ]
  },
  {
   "cell_type": "code",
   "execution_count": null,
   "id": "32140764-71ad-4d7c-a821-edc2aa29fb95",
   "metadata": {},
   "outputs": [],
   "source": []
  }
 ],
 "metadata": {
  "kernelspec": {
   "display_name": "Python 3 (ipykernel)",
   "language": "python",
   "name": "python3"
  },
  "language_info": {
   "codemirror_mode": {
    "name": "ipython",
    "version": 3
   },
   "file_extension": ".py",
   "mimetype": "text/x-python",
   "name": "python",
   "nbconvert_exporter": "python",
   "pygments_lexer": "ipython3",
   "version": "3.9.12"
  }
 },
 "nbformat": 4,
 "nbformat_minor": 5
}
